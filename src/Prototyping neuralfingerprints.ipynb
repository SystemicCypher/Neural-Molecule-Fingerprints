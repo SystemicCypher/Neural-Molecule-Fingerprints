{
 "cells": [
  {
   "cell_type": "code",
   "execution_count": 1,
   "metadata": {},
   "outputs": [
    {
     "name": "stderr",
     "output_type": "stream",
     "text": [
      "Using TensorFlow backend.\n"
     ]
    }
   ],
   "source": [
    "import data_preprocessing as proc\n",
    "import neuralPrint as neural\n",
    "import numpy as np\n",
    "import model as n\n",
    "from keras.models import Model"
   ]
  },
  {
   "cell_type": "code",
   "execution_count": 2,
   "metadata": {},
   "outputs": [
    {
     "name": "stdout",
     "output_type": "stream",
     "text": [
      "(?, ?, 50)\n",
      "(?, ?, 50)\n",
      "(?, ?, 50)\n",
      "(?, ?, 50)\n",
      "(?, ?, 50)\n"
     ]
    },
    {
     "name": "stderr",
     "output_type": "stream",
     "text": [
      "model.py:63: UserWarning: The `merge` function is deprecated and will be removed after 08/2017. Use instead layers from `keras.layers.merge`, e.g. `add`, `concatenate`, etc.\n",
      "  final_fp = layers.merge(all_outputs, mode='sum', name=\"final_merge\")\n",
      "/Users/TEST/anaconda2/envs/Research/lib/python2.7/site-packages/keras/legacy/layers.py:465: UserWarning: The `Merge` layer is deprecated and will be removed after 08/2017. Use instead layers from `keras.layers.merge`, e.g. `add`, `concatenate`, etc.\n",
      "  name=name)\n"
     ]
    }
   ],
   "source": [
    "fingerprinter = n.neural_graph_fingerprints(6, 50, 5)"
   ]
  },
  {
   "cell_type": "code",
   "execution_count": 3,
   "metadata": {},
   "outputs": [
    {
     "name": "stdout",
     "output_type": "stream",
     "text": [
      "__________________________________________________________________________________________________\n",
      "Layer (type)                    Output Shape         Param #     Connected to                     \n",
      "==================================================================================================\n",
      "input_layer_rep (InputLayer)    (None, None, 5)      0                                            \n",
      "__________________________________________________________________________________________________\n",
      "lambda_2 (Lambda)               (None, None, 5)      0           input_layer_rep[0][0]            \n",
      "__________________________________________________________________________________________________\n",
      "dense_1 (Dense)                 (None, None, 50)     250         lambda_2[0][0]                   \n",
      "__________________________________________________________________________________________________\n",
      "dense_2 (Dense)                 (None, None, 50)     250         lambda_2[0][0]                   \n",
      "__________________________________________________________________________________________________\n",
      "dense_3 (Dense)                 (None, None, 50)     250         lambda_2[0][0]                   \n",
      "__________________________________________________________________________________________________\n",
      "dense_4 (Dense)                 (None, None, 50)     250         lambda_2[0][0]                   \n",
      "__________________________________________________________________________________________________\n",
      "dense_5 (Dense)                 (None, None, 50)     250         lambda_2[0][0]                   \n",
      "__________________________________________________________________________________________________\n",
      "lambda_5 (Lambda)               (None, 50)           0           dense_1[0][0]                    \n",
      "__________________________________________________________________________________________________\n",
      "lambda_8 (Lambda)               (None, 50)           0           dense_2[0][0]                    \n",
      "__________________________________________________________________________________________________\n",
      "lambda_11 (Lambda)              (None, 50)           0           dense_3[0][0]                    \n",
      "__________________________________________________________________________________________________\n",
      "lambda_14 (Lambda)              (None, 50)           0           dense_4[0][0]                    \n",
      "__________________________________________________________________________________________________\n",
      "lambda_17 (Lambda)              (None, 50)           0           dense_5[0][0]                    \n",
      "__________________________________________________________________________________________________\n",
      "final_merge (Merge)             (None, 50)           0           lambda_5[0][0]                   \n",
      "                                                                 lambda_8[0][0]                   \n",
      "                                                                 lambda_11[0][0]                  \n",
      "                                                                 lambda_14[0][0]                  \n",
      "                                                                 lambda_17[0][0]                  \n",
      "==================================================================================================\n",
      "Total params: 1,250\n",
      "Trainable params: 1,250\n",
      "Non-trainable params: 0\n",
      "__________________________________________________________________________________________________\n"
     ]
    }
   ],
   "source": [
    "fingerprinter.summary()"
   ]
  },
  {
   "cell_type": "code",
   "execution_count": 4,
   "metadata": {},
   "outputs": [],
   "source": [
    "all_molecule_atoms_raw_features, all_adj_graphs, all_atom_counts, moleculelist = neural.loadData(\"../formatted_data/moleculelist_lig.txt\", \"../formatted_data/features/\")"
   ]
  },
  {
   "cell_type": "code",
   "execution_count": 5,
   "metadata": {},
   "outputs": [],
   "source": [
    "feats = all_molecule_atoms_raw_features['ZINC01535869_l']\n",
    "feats = neural.one_hot(feats)\n",
    "graph = all_adj_graphs['ZINC01535869_l']\n",
    "graph = graph + np.eye(graph.shape[0])\n",
    "graph = np.expand_dims(graph,0)\n",
    "feats = np.expand_dims(feats,0)"
   ]
  },
  {
   "cell_type": "code",
   "execution_count": 6,
   "metadata": {
    "scrolled": true
   },
   "outputs": [],
   "source": [
    "out = fingerprinter.predict([graph, feats, ])"
   ]
  },
  {
   "cell_type": "code",
   "execution_count": 7,
   "metadata": {},
   "outputs": [
    {
     "name": "stdout",
     "output_type": "stream",
     "text": [
      "[[ 12.07085419  11.99241447  11.86616707  11.96906185  11.79024887\n",
      "   11.87710094  12.04303932  11.87359715  11.79419327  11.6639061\n",
      "   11.91459846  11.71288681  11.91726208  11.63341904  11.66338062\n",
      "   11.87927628  11.9410305   11.9220438   11.74631691  11.50531673\n",
      "   11.84991837  11.57104111  11.64760876  12.01798153  11.76783466\n",
      "   11.63587761  11.80856419  11.67280769  11.63922501  11.74585152\n",
      "   12.21295452  11.59931946  11.51164055  11.76145744  11.74476433\n",
      "   11.83747959  11.56456375  11.85402584  11.79995346  11.65408802\n",
      "   11.74872971  11.53662395  11.36921406  12.14951134  11.62188148\n",
      "   12.14750481  12.03792     11.97697353  11.89892769  11.83927631]]\n"
     ]
    }
   ],
   "source": [
    "print out"
   ]
  },
  {
   "cell_type": "code",
   "execution_count": 8,
   "metadata": {},
   "outputs": [
    {
     "name": "stdout",
     "output_type": "stream",
     "text": [
      "(1, 50)\n"
     ]
    }
   ],
   "source": [
    "print out.shape"
   ]
  },
  {
   "cell_type": "code",
   "execution_count": 26,
   "metadata": {},
   "outputs": [
    {
     "name": "stdout",
     "output_type": "stream",
     "text": [
      "39.3333129883\n"
     ]
    }
   ],
   "source": [
    "print out.sum()/(3*5)"
   ]
  },
  {
   "cell_type": "code",
   "execution_count": 20,
   "metadata": {},
   "outputs": [],
   "source": [
    "feats = all_molecule_atoms_raw_features['ZINC03775164_l']\n",
    "feats = neural.one_hot(feats)\n",
    "graph = all_adj_graphs['ZINC03775164_l']\n",
    "graph = graph + np.eye(graph.shape[0])\n",
    "graph = np.expand_dims(graph,0)\n",
    "feats = np.expand_dims(feats,0)"
   ]
  },
  {
   "cell_type": "code",
   "execution_count": 21,
   "metadata": {},
   "outputs": [],
   "source": [
    "ZINC03775164_l = fingerprinter.predict([graph, feats])"
   ]
  },
  {
   "cell_type": "code",
   "execution_count": 22,
   "metadata": {},
   "outputs": [
    {
     "name": "stdout",
     "output_type": "stream",
     "text": [
      "[[ 12.92652512  12.8418293   12.68084526  12.80041695  12.57821369\n",
      "   12.7003212   12.90318012  12.68586826  12.59796238  12.43073273\n",
      "   12.72459221  12.49276543  12.73286057  12.39207268  12.4301033\n",
      "   12.71216583  12.7695322   12.75545788  12.5120554   12.25582314\n",
      "   12.6599865   12.33572674  12.41032696  12.86647987  12.57937527\n",
      "   12.40851784  12.61284542  12.43590736  12.39974785  12.53913307\n",
      "   13.09290409  12.36567116  12.270998    12.5454483   12.53502464\n",
      "   12.63868713  12.32441902  12.65717506  12.58973694  12.42908192\n",
      "   12.54012108  12.29210758  12.09060287  13.01443005  12.38965988\n",
      "   12.99148178  12.88056564  12.82392216  12.7040062   12.65221596]]\n"
     ]
    }
   ],
   "source": [
    "print ZINC03775164_l"
   ]
  },
  {
   "cell_type": "code",
   "execution_count": 25,
   "metadata": {},
   "outputs": [
    {
     "name": "stdout",
     "output_type": "stream",
     "text": [
      "41.9999755859\n"
     ]
    }
   ],
   "source": [
    "print ZINC03775164_l.sum()/(3*5)"
   ]
  },
  {
   "cell_type": "code",
   "execution_count": null,
   "metadata": {},
   "outputs": [],
   "source": []
  }
 ],
 "metadata": {
  "kernelspec": {
   "display_name": "Python 2",
   "language": "python",
   "name": "python2"
  },
  "language_info": {
   "codemirror_mode": {
    "name": "ipython",
    "version": 2
   },
   "file_extension": ".py",
   "mimetype": "text/x-python",
   "name": "python",
   "nbconvert_exporter": "python",
   "pygments_lexer": "ipython2",
   "version": "2.7.15"
  }
 },
 "nbformat": 4,
 "nbformat_minor": 2
}
