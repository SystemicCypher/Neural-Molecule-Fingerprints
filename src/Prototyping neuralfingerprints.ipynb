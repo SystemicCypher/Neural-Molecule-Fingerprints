{
 "cells": [
  {
   "cell_type": "code",
   "execution_count": null,
   "metadata": {},
   "outputs": [],
   "source": [
    "import data_preprocessing as proc\n",
    "import neuralPrint as neural\n",
    "import numpy as np\n",
    "import model as n\n",
    "from keras.models import Model"
   ]
  },
  {
   "cell_type": "code",
   "execution_count": null,
   "metadata": {},
   "outputs": [],
   "source": [
    "fingerprinter = n.neural_graph_fingerprints(6, 50, 5)\n",
    "#atom_f = neural.one_hot(all_molecule_atoms_raw_features[\"ZINC01535869_l\"])\n",
    "#adj_graph = all_adj_graphs[\"ZINC01535869_l\"]\n",
    "#adj_graph = np.eye(adj_graph.shape[0]) + adj_graph\n",
    "#adj_graph = np.expand_dims(adj_graph, 0)\n",
    "#atom_f = np.expand_dims(atom_f, 0)\n",
    "#print 'input shape:', adj_graph.shape\n",
    "#x = fingerprinter.predict([adj_graph, atom_f])\n",
    "#print x"
   ]
  },
  {
   "cell_type": "code",
   "execution_count": null,
   "metadata": {},
   "outputs": [],
   "source": [
    "fingerprinter.summary()"
   ]
  },
  {
   "cell_type": "code",
   "execution_count": null,
   "metadata": {},
   "outputs": [],
   "source": [
    "all_molecule_atoms_raw_features, all_adj_graphs, all_atom_counts, moleculelist = neural.loadData(\"../formatted_data/moleculelist_lig.txt\", \"../formatted_data/features/\")"
   ]
  },
  {
   "cell_type": "code",
   "execution_count": null,
   "metadata": {},
   "outputs": [],
   "source": [
    "feats = all_molecule_atoms_raw_features['ZINC01535869_l']\n",
    "feats = neural.one_hot(feats)\n",
    "graph = all_adj_graphs['ZINC01535869_l']\n",
    "graph = graph + np.eye(graph.shape[0])\n",
    "graph = np.expand_dims(graph,0)\n",
    "feats = np.expand_dims(feats,0)"
   ]
  },
  {
   "cell_type": "code",
   "execution_count": null,
   "metadata": {
    "scrolled": true
   },
   "outputs": [],
   "source": [
    "out = fingerprinter.predict([graph, feats])"
   ]
  },
  {
   "cell_type": "code",
   "execution_count": null,
   "metadata": {},
   "outputs": [],
   "source": [
    "print out"
   ]
  },
  {
   "cell_type": "code",
   "execution_count": null,
   "metadata": {},
   "outputs": [],
   "source": [
    "print out.shape"
   ]
  },
  {
   "cell_type": "code",
   "execution_count": null,
   "metadata": {},
   "outputs": [],
   "source": [
    "print out.sum()"
   ]
  },
  {
   "cell_type": "code",
   "execution_count": null,
   "metadata": {},
   "outputs": [],
   "source": [
    "feats = all_molecule_atoms_raw_features['ZINC03775164_l']\n",
    "feats = neural.one_hot(feats)\n",
    "graph = all_adj_graphs['ZINC03775164_l']\n",
    "graph = graph + np.eye(graph.shape[0])\n",
    "graph = np.expand_dims(graph,0)\n",
    "feats = np.expand_dims(feats,0)"
   ]
  },
  {
   "cell_type": "code",
   "execution_count": null,
   "metadata": {},
   "outputs": [],
   "source": [
    "ZINC03775164_l = fingerprinter.predict([graph, feats])"
   ]
  },
  {
   "cell_type": "code",
   "execution_count": null,
   "metadata": {},
   "outputs": [],
   "source": [
    "print ZINC03775164_l"
   ]
  },
  {
   "cell_type": "code",
   "execution_count": null,
   "metadata": {},
   "outputs": [],
   "source": [
    "print ZINC03775164_l.sum()/5"
   ]
  },
  {
   "cell_type": "code",
   "execution_count": null,
   "metadata": {},
   "outputs": [],
   "source": []
  }
 ],
 "metadata": {
  "kernelspec": {
   "display_name": "Python 3",
   "language": "python",
   "name": "python3"
  },
  "language_info": {
   "codemirror_mode": {
    "name": "ipython",
    "version": 3
   },
   "file_extension": ".py",
   "mimetype": "text/x-python",
   "name": "python",
   "nbconvert_exporter": "python",
   "pygments_lexer": "ipython3",
   "version": "3.6.5"
  }
 },
 "nbformat": 4,
 "nbformat_minor": 2
}
